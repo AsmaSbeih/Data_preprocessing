{
  "nbformat": 4,
  "nbformat_minor": 0,
  "metadata": {
    "colab": {
      "provenance": [],
      "authorship_tag": "ABX9TyPjHQ/cd+jBZhdXag3rUP5W",
      "include_colab_link": true
    },
    "kernelspec": {
      "name": "python3",
      "display_name": "Python 3"
    },
    "language_info": {
      "name": "python"
    }
  },
  "cells": [
    {
      "cell_type": "markdown",
      "metadata": {
        "id": "view-in-github",
        "colab_type": "text"
      },
      "source": [
        "<a href=\"https://colab.research.google.com/github/AsmaSbeih/Data_preprocessing/blob/main/time_series_data.ipynb\" target=\"_parent\"><img src=\"https://colab.research.google.com/assets/colab-badge.svg\" alt=\"Open In Colab\"/></a>"
      ]
    },
    {
      "cell_type": "code",
      "execution_count": null,
      "metadata": {
        "colab": {
          "base_uri": "https://localhost:8080/"
        },
        "id": "GHujM7asxCnx",
        "outputId": "57465212-bb46-4d76-cdea-04c92e0afcdb"
      },
      "outputs": [
        {
          "output_type": "stream",
          "name": "stdout",
          "text": [
            "       d_ini      d_end   kwh\n",
            "0 2019-01-10 2019-02-13   408\n",
            "1 2019-02-14 2019-04-14  1116\n",
            "2 2019-04-15 2019-05-05  1356\n",
            "3 2019-05-06 2019-06-09  1730\n",
            "4 2019-06-10 2019-07-11  2102\n",
            "5 2019-07-12 2019-09-02  2674\n",
            "6 2019-09-20 2019-09-30  2784\n",
            "7 2019-10-01 2019-10-31  3144\n",
            "8 2019-11-01 2019-11-30  3376\n",
            "9 2019-12-01 2019-12-31  3676\n"
          ]
        }
      ],
      "source": [
        "import pandas as pd\n",
        "# Step 2: Read Excel file into DataFrame\n",
        "df=pd.read_excel('data_2019.xls')\n",
        "print(df)\n",
        "df.describe()\n",
        "# Step 3: Create a date range with daily frequency\n",
        "date_range = pd.date_range(start=df['d_ini'].min(), end=df['d_end'].max(), freq='D')\n",
        "\n",
        "# step 4: Creating a new DataFrame with the date range\n",
        "time_series_df = pd.DataFrame(index=date_range)\n",
        "\n",
        "#step5:  Merging the original data with the new time series data\n",
        "merged_df = pd.merge_asof(time_series_df, df, left_index=True, right_on='d_ini', direction='forward')\n",
        "\n",
        "# Step 5: Fill NaN values for gaps\n",
        "\n",
        "merged_df['kwh'] = merged_df['kwh'].fillna(value=\"NAN\")\n",
        "#result_df['kwh'] = result_df['kwh'].fillna(value=pd.NA)\n",
        "#merged_df['kwh'] = merged_df['kwh'].ffill()\n",
        "\n",
        "#step 5: save new excel file\n",
        "merged_df.to_excel('new_data.xlsx')"
      ]
    },
    {
      "cell_type": "code",
      "source": [
        "df.set_index('d_ini', inplace=True)\n",
        "print(df)"
      ],
      "metadata": {
        "colab": {
          "base_uri": "https://localhost:8080/"
        },
        "id": "B-IgMnrlycBp",
        "outputId": "2eb49046-2adf-4de6-dc5f-a97104e70e5b"
      },
      "execution_count": null,
      "outputs": [
        {
          "output_type": "stream",
          "name": "stdout",
          "text": [
            "                d_end   kwh\n",
            "d_ini                      \n",
            "2019-01-10 2019-02-13   408\n",
            "2019-02-14 2019-04-14  1116\n",
            "2019-04-15 2019-05-05  1356\n",
            "2019-05-06 2019-06-09  1730\n",
            "2019-06-10 2019-07-11  2102\n",
            "2019-07-12 2019-09-02  2674\n",
            "2019-09-20 2019-09-30  2784\n",
            "2019-10-01 2019-10-31  3144\n",
            "2019-11-01 2019-11-30  3376\n",
            "2019-12-01 2019-12-31  3676\n"
          ]
        }
      ]
    },
    {
      "cell_type": "code",
      "source": [
        "df_resampled=df.resample('D').mean()\n",
        "print(df_resampled)\n",
        "link='new_data.xlsx'\n",
        "df_resampled.to_excel(link)"
      ],
      "metadata": {
        "colab": {
          "base_uri": "https://localhost:8080/"
        },
        "id": "pUMhLGOszfL2",
        "outputId": "8b221772-c2b9-4bef-c15a-f8cac10c0abb"
      },
      "execution_count": null,
      "outputs": [
        {
          "output_type": "stream",
          "name": "stderr",
          "text": [
            "<ipython-input-12-2f0872df59a3>:1: FutureWarning: The default value of numeric_only in DataFrameGroupBy.mean is deprecated. In a future version, numeric_only will default to False. Either specify numeric_only or select only columns which should be valid for the function.\n",
            "  df_resampled=df.resample('D').mean()\n"
          ]
        },
        {
          "output_type": "stream",
          "name": "stdout",
          "text": [
            "               kwh\n",
            "d_ini             \n",
            "2019-01-10   408.0\n",
            "2019-01-11     NaN\n",
            "2019-01-12     NaN\n",
            "2019-01-13     NaN\n",
            "2019-01-14     NaN\n",
            "...            ...\n",
            "2019-11-27     NaN\n",
            "2019-11-28     NaN\n",
            "2019-11-29     NaN\n",
            "2019-11-30     NaN\n",
            "2019-12-01  3676.0\n",
            "\n",
            "[326 rows x 1 columns]\n"
          ]
        }
      ]
    },
    {
      "cell_type": "code",
      "source": [
        "import pandas as pd\n",
        "# Replace 'your_file.xlsx' with the actual file path\n",
        "df = pd.read_excel('data_2019.xls', parse_dates=['d_ini', 'd_end'])\n",
        "print(df)\n",
        "\n",
        "\n"
      ],
      "metadata": {
        "colab": {
          "base_uri": "https://localhost:8080/"
        },
        "id": "wRkuNjlqBJP4",
        "outputId": "b4854d5c-ad3e-4bac-8946-e701fac5626e"
      },
      "execution_count": null,
      "outputs": [
        {
          "output_type": "stream",
          "name": "stdout",
          "text": [
            "       d_ini      d_end   kwh\n",
            "0 2019-01-10 2019-02-13   408\n",
            "1 2019-02-14 2019-04-14  1116\n",
            "2 2019-04-15 2019-05-05  1356\n",
            "3 2019-05-06 2019-06-09  1730\n",
            "4 2019-06-10 2019-07-11  2102\n",
            "5 2019-07-12 2019-09-02  2674\n",
            "6 2019-09-20 2019-09-30  2784\n",
            "7 2019-10-01 2019-10-31  3144\n",
            "8 2019-11-01 2019-11-30  3376\n",
            "9 2019-12-01 2019-12-31  3676\n"
          ]
        }
      ]
    },
    {
      "cell_type": "code",
      "source": [
        "date_range = pd.date_range(start=df['d_ini'].min(), end=df['d_end'].max(), freq='D')\n",
        "print(date_range)\n",
        "time_series_df = pd.DataFrame(index=date_range)\n",
        "print(time_series_df)\n",
        "merged_df = pd.merge_asof(time_series_df, df, left_index=True, right_on='d_ini', direction='forward')\n",
        "\n",
        "#merged_df['kwh'] = merged_df['kwh'].ffill()\n",
        "\n",
        "merged_df.to_excel('merged.xlsx')"
      ],
      "metadata": {
        "colab": {
          "base_uri": "https://localhost:8080/"
        },
        "id": "Lw22xYsIDL_T",
        "outputId": "4d76ce93-68f2-495f-fc5d-646b70a63ea4"
      },
      "execution_count": null,
      "outputs": [
        {
          "output_type": "stream",
          "name": "stdout",
          "text": [
            "DatetimeIndex(['2019-01-10', '2019-01-11', '2019-01-12', '2019-01-13',\n",
            "               '2019-01-14', '2019-01-15', '2019-01-16', '2019-01-17',\n",
            "               '2019-01-18', '2019-01-19',\n",
            "               ...\n",
            "               '2019-12-22', '2019-12-23', '2019-12-24', '2019-12-25',\n",
            "               '2019-12-26', '2019-12-27', '2019-12-28', '2019-12-29',\n",
            "               '2019-12-30', '2019-12-31'],\n",
            "              dtype='datetime64[ns]', length=356, freq='D')\n",
            "Empty DataFrame\n",
            "Columns: []\n",
            "Index: [2019-01-10 00:00:00, 2019-01-11 00:00:00, 2019-01-12 00:00:00, 2019-01-13 00:00:00, 2019-01-14 00:00:00, 2019-01-15 00:00:00, 2019-01-16 00:00:00, 2019-01-17 00:00:00, 2019-01-18 00:00:00, 2019-01-19 00:00:00, 2019-01-20 00:00:00, 2019-01-21 00:00:00, 2019-01-22 00:00:00, 2019-01-23 00:00:00, 2019-01-24 00:00:00, 2019-01-25 00:00:00, 2019-01-26 00:00:00, 2019-01-27 00:00:00, 2019-01-28 00:00:00, 2019-01-29 00:00:00, 2019-01-30 00:00:00, 2019-01-31 00:00:00, 2019-02-01 00:00:00, 2019-02-02 00:00:00, 2019-02-03 00:00:00, 2019-02-04 00:00:00, 2019-02-05 00:00:00, 2019-02-06 00:00:00, 2019-02-07 00:00:00, 2019-02-08 00:00:00, 2019-02-09 00:00:00, 2019-02-10 00:00:00, 2019-02-11 00:00:00, 2019-02-12 00:00:00, 2019-02-13 00:00:00, 2019-02-14 00:00:00, 2019-02-15 00:00:00, 2019-02-16 00:00:00, 2019-02-17 00:00:00, 2019-02-18 00:00:00, 2019-02-19 00:00:00, 2019-02-20 00:00:00, 2019-02-21 00:00:00, 2019-02-22 00:00:00, 2019-02-23 00:00:00, 2019-02-24 00:00:00, 2019-02-25 00:00:00, 2019-02-26 00:00:00, 2019-02-27 00:00:00, 2019-02-28 00:00:00, 2019-03-01 00:00:00, 2019-03-02 00:00:00, 2019-03-03 00:00:00, 2019-03-04 00:00:00, 2019-03-05 00:00:00, 2019-03-06 00:00:00, 2019-03-07 00:00:00, 2019-03-08 00:00:00, 2019-03-09 00:00:00, 2019-03-10 00:00:00, 2019-03-11 00:00:00, 2019-03-12 00:00:00, 2019-03-13 00:00:00, 2019-03-14 00:00:00, 2019-03-15 00:00:00, 2019-03-16 00:00:00, 2019-03-17 00:00:00, 2019-03-18 00:00:00, 2019-03-19 00:00:00, 2019-03-20 00:00:00, 2019-03-21 00:00:00, 2019-03-22 00:00:00, 2019-03-23 00:00:00, 2019-03-24 00:00:00, 2019-03-25 00:00:00, 2019-03-26 00:00:00, 2019-03-27 00:00:00, 2019-03-28 00:00:00, 2019-03-29 00:00:00, 2019-03-30 00:00:00, 2019-03-31 00:00:00, 2019-04-01 00:00:00, 2019-04-02 00:00:00, 2019-04-03 00:00:00, 2019-04-04 00:00:00, 2019-04-05 00:00:00, 2019-04-06 00:00:00, 2019-04-07 00:00:00, 2019-04-08 00:00:00, 2019-04-09 00:00:00, 2019-04-10 00:00:00, 2019-04-11 00:00:00, 2019-04-12 00:00:00, 2019-04-13 00:00:00, 2019-04-14 00:00:00, 2019-04-15 00:00:00, 2019-04-16 00:00:00, 2019-04-17 00:00:00, 2019-04-18 00:00:00, 2019-04-19 00:00:00, ...]\n",
            "\n",
            "[356 rows x 0 columns]\n"
          ]
        }
      ]
    },
    {
      "cell_type": "code",
      "source": [
        "import pandas as pd\n",
        "from io import StringIO\n",
        "\n",
        "# Your data\n",
        "data = \"\"\"d_ini,d_end,kwh\n",
        "10/1/2019,13/2/2019,408\n",
        "14/2/2019,14/4/2019,1116\n",
        "15/4/2019,5/5/2019,1356\n",
        "6/5/2019,9/6/2019,1730\n",
        "10/6/2019,11/7/2019,2102\n",
        "12/7/2019,2/9/2019,2674\n",
        "20/9/2019,30/9/2019,2784\n",
        "1/10/2019,31/10/2019,3144\n",
        "1/11/2019,30/11/2019,3376\n",
        "1/12/2019,31/12/2019,3676\"\"\"\n",
        "\n",
        "# Reading the data into a pandas DataFrame\n",
        "df = pd.read_csv(StringIO(data), parse_dates=[0, 1], dayfirst=True)\n",
        "\n",
        "# Creating a date range with daily frequency\n",
        "date_range = pd.date_range(start=df['d_ini'].min(), end=df['d_end'].max(), freq='D')\n",
        "\n",
        "# Creating a new DataFrame with the date range\n",
        "time_series_df = pd.DataFrame(index=date_range)\n",
        "\n",
        "# Merging the original data with the new time series data\n",
        "merged_df = pd.merge_asof(time_series_df, df, left_index=True, right_on='d_ini', direction='forward')\n",
        "\n",
        "# Setting the kWh values for the date range\n",
        "merged_df['kwh'] = merged_df['kwh'].ffill()\n",
        "\n",
        "# Displaying the transformed data\n",
        "print(merged_df)\n",
        "merged_df.to_excel('new_merged.xlsx')"
      ],
      "metadata": {
        "colab": {
          "base_uri": "https://localhost:8080/"
        },
        "id": "cFAMM7xIHlFe",
        "outputId": "69a26480-4f96-4064-f47d-ec49eae1cd55"
      },
      "execution_count": null,
      "outputs": [
        {
          "output_type": "stream",
          "name": "stdout",
          "text": [
            "                d_ini      d_end     kwh\n",
            "2019-01-10 2019-01-10 2019-02-13   408.0\n",
            "2019-01-11 2019-01-11 2019-04-14  1116.0\n",
            "2019-01-12 2019-01-12 2019-04-14  1116.0\n",
            "2019-01-13 2019-01-13 2019-04-14  1116.0\n",
            "2019-01-14 2019-01-14 2019-04-14  1116.0\n",
            "...               ...        ...     ...\n",
            "2019-12-27 2019-12-27        NaT  3676.0\n",
            "2019-12-28 2019-12-28        NaT  3676.0\n",
            "2019-12-29 2019-12-29        NaT  3676.0\n",
            "2019-12-30 2019-12-30        NaT  3676.0\n",
            "2019-12-31 2019-12-31        NaT  3676.0\n",
            "\n",
            "[356 rows x 3 columns]\n"
          ]
        }
      ]
    },
    {
      "cell_type": "code",
      "source": [
        "import pandas as pd\n",
        "\n",
        "# Step 2: Read Excel file into DataFrame\n",
        "df = pd.read_excel('data_2019.xls')\n",
        "\n",
        "# Step 3: Create a date range with daily frequency\n",
        "date_range = pd.date_range(start=df['d_ini'].min(), end=df['d_end'].max(), freq='D')\n",
        "\n",
        "# Step 4: Merge with the original DataFrame\n",
        "result_df = pd.DataFrame(index=date_range)\n",
        "result_df = result_df.merge(df, left_index=True, right_on=['d_ini', 'd_end'])\n",
        "\n",
        "# Step 5: Fill NaN values for gaps\n",
        "#result_df['kwh'] = result_df['kwh'].fillna(value=pd.NA)\n",
        "\n",
        "# Display the resulting DataFrame\n",
        "#print(result_df)\n",
        "\n",
        "#merged_df.to_excel('final_merged.xlsx')"
      ],
      "metadata": {
        "colab": {
          "base_uri": "https://localhost:8080/",
          "height": 408
        },
        "id": "C8224wcEI-Tn",
        "outputId": "8e6cee49-4aec-490d-df62-967c5db8a4b2"
      },
      "execution_count": null,
      "outputs": [
        {
          "output_type": "error",
          "ename": "ValueError",
          "evalue": "len(right_on) must equal the number of levels in the index of \"left\"",
          "traceback": [
            "\u001b[0;31m---------------------------------------------------------------------------\u001b[0m",
            "\u001b[0;31mValueError\u001b[0m                                Traceback (most recent call last)",
            "\u001b[0;32m<ipython-input-31-5d33c91f3937>\u001b[0m in \u001b[0;36m<cell line: 11>\u001b[0;34m()\u001b[0m\n\u001b[1;32m      9\u001b[0m \u001b[0;31m# Step 4: Merge with the original DataFrame\u001b[0m\u001b[0;34m\u001b[0m\u001b[0;34m\u001b[0m\u001b[0m\n\u001b[1;32m     10\u001b[0m \u001b[0mresult_df\u001b[0m \u001b[0;34m=\u001b[0m \u001b[0mpd\u001b[0m\u001b[0;34m.\u001b[0m\u001b[0mDataFrame\u001b[0m\u001b[0;34m(\u001b[0m\u001b[0mindex\u001b[0m\u001b[0;34m=\u001b[0m\u001b[0mdate_range\u001b[0m\u001b[0;34m)\u001b[0m\u001b[0;34m\u001b[0m\u001b[0;34m\u001b[0m\u001b[0m\n\u001b[0;32m---> 11\u001b[0;31m \u001b[0mresult_df\u001b[0m \u001b[0;34m=\u001b[0m \u001b[0mresult_df\u001b[0m\u001b[0;34m.\u001b[0m\u001b[0mmerge\u001b[0m\u001b[0;34m(\u001b[0m\u001b[0mdf\u001b[0m\u001b[0;34m,\u001b[0m \u001b[0mleft_index\u001b[0m\u001b[0;34m=\u001b[0m\u001b[0;32mTrue\u001b[0m\u001b[0;34m,\u001b[0m \u001b[0mright_on\u001b[0m\u001b[0;34m=\u001b[0m\u001b[0;34m[\u001b[0m\u001b[0;34m'd_ini'\u001b[0m\u001b[0;34m,\u001b[0m \u001b[0;34m'd_end'\u001b[0m\u001b[0;34m]\u001b[0m\u001b[0;34m)\u001b[0m\u001b[0;34m\u001b[0m\u001b[0;34m\u001b[0m\u001b[0m\n\u001b[0m\u001b[1;32m     12\u001b[0m \u001b[0;34m\u001b[0m\u001b[0m\n\u001b[1;32m     13\u001b[0m \u001b[0;31m# Step 5: Fill NaN values for gaps\u001b[0m\u001b[0;34m\u001b[0m\u001b[0;34m\u001b[0m\u001b[0m\n",
            "\u001b[0;32m/usr/local/lib/python3.10/dist-packages/pandas/core/frame.py\u001b[0m in \u001b[0;36mmerge\u001b[0;34m(self, right, how, on, left_on, right_on, left_index, right_index, sort, suffixes, copy, indicator, validate)\u001b[0m\n\u001b[1;32m  10091\u001b[0m         \u001b[0;32mfrom\u001b[0m \u001b[0mpandas\u001b[0m\u001b[0;34m.\u001b[0m\u001b[0mcore\u001b[0m\u001b[0;34m.\u001b[0m\u001b[0mreshape\u001b[0m\u001b[0;34m.\u001b[0m\u001b[0mmerge\u001b[0m \u001b[0;32mimport\u001b[0m \u001b[0mmerge\u001b[0m\u001b[0;34m\u001b[0m\u001b[0;34m\u001b[0m\u001b[0m\n\u001b[1;32m  10092\u001b[0m \u001b[0;34m\u001b[0m\u001b[0m\n\u001b[0;32m> 10093\u001b[0;31m         return merge(\n\u001b[0m\u001b[1;32m  10094\u001b[0m             \u001b[0mself\u001b[0m\u001b[0;34m,\u001b[0m\u001b[0;34m\u001b[0m\u001b[0;34m\u001b[0m\u001b[0m\n\u001b[1;32m  10095\u001b[0m             \u001b[0mright\u001b[0m\u001b[0;34m,\u001b[0m\u001b[0;34m\u001b[0m\u001b[0;34m\u001b[0m\u001b[0m\n",
            "\u001b[0;32m/usr/local/lib/python3.10/dist-packages/pandas/core/reshape/merge.py\u001b[0m in \u001b[0;36mmerge\u001b[0;34m(left, right, how, on, left_on, right_on, left_index, right_index, sort, suffixes, copy, indicator, validate)\u001b[0m\n\u001b[1;32m    108\u001b[0m     \u001b[0mvalidate\u001b[0m\u001b[0;34m:\u001b[0m \u001b[0mstr\u001b[0m \u001b[0;34m|\u001b[0m \u001b[0;32mNone\u001b[0m \u001b[0;34m=\u001b[0m \u001b[0;32mNone\u001b[0m\u001b[0;34m,\u001b[0m\u001b[0;34m\u001b[0m\u001b[0;34m\u001b[0m\u001b[0m\n\u001b[1;32m    109\u001b[0m ) -> DataFrame:\n\u001b[0;32m--> 110\u001b[0;31m     op = _MergeOperation(\n\u001b[0m\u001b[1;32m    111\u001b[0m         \u001b[0mleft\u001b[0m\u001b[0;34m,\u001b[0m\u001b[0;34m\u001b[0m\u001b[0;34m\u001b[0m\u001b[0m\n\u001b[1;32m    112\u001b[0m         \u001b[0mright\u001b[0m\u001b[0;34m,\u001b[0m\u001b[0;34m\u001b[0m\u001b[0;34m\u001b[0m\u001b[0m\n",
            "\u001b[0;32m/usr/local/lib/python3.10/dist-packages/pandas/core/reshape/merge.py\u001b[0m in \u001b[0;36m__init__\u001b[0;34m(self, left, right, how, on, left_on, right_on, axis, left_index, right_index, sort, suffixes, indicator, validate)\u001b[0m\n\u001b[1;32m    683\u001b[0m             \u001b[0mwarnings\u001b[0m\u001b[0;34m.\u001b[0m\u001b[0mwarn\u001b[0m\u001b[0;34m(\u001b[0m\u001b[0mmsg\u001b[0m\u001b[0;34m,\u001b[0m \u001b[0mFutureWarning\u001b[0m\u001b[0;34m,\u001b[0m \u001b[0mstacklevel\u001b[0m\u001b[0;34m=\u001b[0m\u001b[0mfind_stack_level\u001b[0m\u001b[0;34m(\u001b[0m\u001b[0;34m)\u001b[0m\u001b[0;34m)\u001b[0m\u001b[0;34m\u001b[0m\u001b[0;34m\u001b[0m\u001b[0m\n\u001b[1;32m    684\u001b[0m \u001b[0;34m\u001b[0m\u001b[0m\n\u001b[0;32m--> 685\u001b[0;31m         \u001b[0mself\u001b[0m\u001b[0;34m.\u001b[0m\u001b[0mleft_on\u001b[0m\u001b[0;34m,\u001b[0m \u001b[0mself\u001b[0m\u001b[0;34m.\u001b[0m\u001b[0mright_on\u001b[0m \u001b[0;34m=\u001b[0m \u001b[0mself\u001b[0m\u001b[0;34m.\u001b[0m\u001b[0m_validate_left_right_on\u001b[0m\u001b[0;34m(\u001b[0m\u001b[0mleft_on\u001b[0m\u001b[0;34m,\u001b[0m \u001b[0mright_on\u001b[0m\u001b[0;34m)\u001b[0m\u001b[0;34m\u001b[0m\u001b[0;34m\u001b[0m\u001b[0m\n\u001b[0m\u001b[1;32m    686\u001b[0m \u001b[0;34m\u001b[0m\u001b[0m\n\u001b[1;32m    687\u001b[0m         \u001b[0mcross_col\u001b[0m \u001b[0;34m=\u001b[0m \u001b[0;32mNone\u001b[0m\u001b[0;34m\u001b[0m\u001b[0;34m\u001b[0m\u001b[0m\n",
            "\u001b[0;32m/usr/local/lib/python3.10/dist-packages/pandas/core/reshape/merge.py\u001b[0m in \u001b[0;36m_validate_left_right_on\u001b[0;34m(self, left_on, right_on)\u001b[0m\n\u001b[1;32m   1482\u001b[0m             \u001b[0;32mif\u001b[0m \u001b[0mself\u001b[0m\u001b[0;34m.\u001b[0m\u001b[0mleft_index\u001b[0m\u001b[0;34m:\u001b[0m\u001b[0;34m\u001b[0m\u001b[0;34m\u001b[0m\u001b[0m\n\u001b[1;32m   1483\u001b[0m                 \u001b[0;32mif\u001b[0m \u001b[0mlen\u001b[0m\u001b[0;34m(\u001b[0m\u001b[0mright_on\u001b[0m\u001b[0;34m)\u001b[0m \u001b[0;34m!=\u001b[0m \u001b[0mself\u001b[0m\u001b[0;34m.\u001b[0m\u001b[0mleft\u001b[0m\u001b[0;34m.\u001b[0m\u001b[0mindex\u001b[0m\u001b[0;34m.\u001b[0m\u001b[0mnlevels\u001b[0m\u001b[0;34m:\u001b[0m\u001b[0;34m\u001b[0m\u001b[0;34m\u001b[0m\u001b[0m\n\u001b[0;32m-> 1484\u001b[0;31m                     raise ValueError(\n\u001b[0m\u001b[1;32m   1485\u001b[0m                         \u001b[0;34m\"len(right_on) must equal the number \"\u001b[0m\u001b[0;34m\u001b[0m\u001b[0;34m\u001b[0m\u001b[0m\n\u001b[1;32m   1486\u001b[0m                         \u001b[0;34m'of levels in the index of \"left\"'\u001b[0m\u001b[0;34m\u001b[0m\u001b[0;34m\u001b[0m\u001b[0m\n",
            "\u001b[0;31mValueError\u001b[0m: len(right_on) must equal the number of levels in the index of \"left\""
          ]
        }
      ]
    }
  ]
}